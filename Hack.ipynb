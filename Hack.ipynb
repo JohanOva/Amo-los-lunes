{
 "cells": [
  {
   "cell_type": "code",
   "execution_count": 7,
   "id": "17535a0c",
   "metadata": {
    "scrolled": false
   },
   "outputs": [],
   "source": [
    "import pandas as pd\n",
    "import matplotlib.pyplot as plt\n",
    "import numpy as np\n",
    "import datetime\n",
    "import math\n",
    "\n",
    "datos = pd.read_csv('delivery_dataset.csv',sep=';')"
   ]
  },
  {
   "cell_type": "code",
   "execution_count": 23,
   "id": "32eac6a2",
   "metadata": {
    "scrolled": false
   },
   "outputs": [
    {
     "name": "stdout",
     "output_type": "stream",
     "text": [
      "Empty DataFrame\n",
      "Columns: [Year, Month, DayofMonth, DayOfWeek, Actual_Shipment_Time, Planned_Shipment_Time, Planned_Delivery_Time, Carrier_Name, Carrier_Num, Planned_TimeofTravel, Shipment_Delay, Source, Destination, Distance, Delivery_Status]\n",
      "Index: []\n"
     ]
    }
   ],
   "source": [
    "def entregas_a_tiempo_mes(year,month,datos):\n",
    "    on_time = datos[datos.Year==year]\n",
    "    #on_time = on_time[on_time.Month==month]\n",
    "    #on_time = on_time['Delivery_Status'].dropna().value_counts()\n",
    "    print(on_time)\n",
    "    #on_time.plot(kind='pie',title='Porcentaje de entregas a tiempo',labels=['Tarde','A tiempo'],ylabel='Entregas')\n",
    "    #plt.show()\n",
    "    \n",
    "entregas_a_tiempo_mes(2022,1,datos)\n",
    "#print(datos)"
   ]
  },
  {
   "cell_type": "code",
   "execution_count": null,
   "id": "cced2b2d",
   "metadata": {},
   "outputs": [],
   "source": []
  }
 ],
 "metadata": {
  "kernelspec": {
   "display_name": "Python 3 (ipykernel)",
   "language": "python",
   "name": "python3"
  },
  "language_info": {
   "codemirror_mode": {
    "name": "ipython",
    "version": 3
   },
   "file_extension": ".py",
   "mimetype": "text/x-python",
   "name": "python",
   "nbconvert_exporter": "python",
   "pygments_lexer": "ipython3",
   "version": "3.9.12"
  }
 },
 "nbformat": 4,
 "nbformat_minor": 5
}
